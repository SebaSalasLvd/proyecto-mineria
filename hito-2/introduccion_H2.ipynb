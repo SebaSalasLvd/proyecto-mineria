{
 "cells": [
  {
   "cell_type": "markdown",
   "id": "e8cde647",
   "metadata": {},
   "source": [
    "## 1. Introduccion\n",
    "\n",
    "En las últimas decadas, la industria de los videojuegos ha experimentado una expansión sin precedentes, tanto en términos de volumen de producción como en la diversidad de públicos que la consumen. Hoy en día, los videojuegos constituyen una de las formas de entretenimiento más influyentes a nivel global, con miles de títulos disponibles en múltiples plataformas y una comunidad cada vez más diversa, que abarca desde niños hasta adultos mayores. Este fenómeno cultural ha evolucionado más allá del ocio, incorporando espacios de socialización, desarrollo cognitivo, educación e incluso bienestar emocional.\n",
    "\n",
    "Dentro de este ecosistema destaca la práctica del speedrunning, que consiste en completar videojuegos en el menor tiempo posible bajo reglas establecidas por la propia comunidad. Lo que comenzó como una forma alternativa de jugar, se ha transformado en un fenómeno cultural masivo, con competencias internacionales, transmisiones en vivo y una comunidad activa que documenta estrategias, tiempos y experiencias compartidas.\n",
    "\n",
    "En este contexto, el sitio web HowLongToBeat ofrece un punto de observación privilegiado, al reunir estadísticas de comportamiento de usuarios en relación con miles de videojuegos, incluyendo estimaciones de duración, porcentajes de finalización, plataformas jugadas, valoraciones, y tiempos promedio de juego bajo distintos estilos. El análisis de este tipo de datos permite estudiar no solo las propiedades inherentes de los juegos, sino también los patrones de uso y consumo en una comunidad global de jugadores.\n",
    "\n",
    "Inicialmente, nuestro interés se centró en analizar un dataset relacionado con speedruns, dada su buena calidad y potencial para observar rendimientos comparativos. Sin embargo, al profundizar en el análisis, decidimos ampliar el enfoque hacia una mirada más integral del comportamiento del usuario en la plataforma, considerando no solo el rendimiento, sino también la relación entre atributos del juego y conductas agregadas de los jugadores.\n",
    "\n",
    "En este estudio nos propusimos dos objetivos principales:\n",
    "\n",
    "- Predecir ciertos comportamientos esperados de usuarios (como el tiempo de juego o la valoración) a partir de variables definidas dentro del conjunto de datos.\n",
    "\n",
    "- Categorizar juegos en función de una combinación de atributos propios del título (como género, plataforma, duración estimada) y atributos derivados del comportamiento generalizado de los usuarios, con el fin de explorar su agrupamiento y potencial uso en sistemas de recomendación.\n",
    "\n",
    "Para ello, aplicamos técnicas de preprocesamiento, binarización de atributos categóricos, análisis exploratorio, clustering no supervisado (mediante K-Means y DBSCAN), reducción de dimensionalidad con PCA, y validación interna de los agrupamientos mediante métricas como el coeficiente de Silhouette.\n",
    "\n",
    "El objetivo general de este informe es entonces explorar el dataset desde una perspectiva de minería de datos, utilizando herramientas algorítmicas para comprender tanto las dinámicas sociales que emergen del uso compartido de videojuegos, como la estructura interna que permite agruparlos de forma significativa en función de la experiencia de juego."
   ]
  }
 ],
 "metadata": {
  "language_info": {
   "name": "python"
  }
 },
 "nbformat": 4,
 "nbformat_minor": 5
}
