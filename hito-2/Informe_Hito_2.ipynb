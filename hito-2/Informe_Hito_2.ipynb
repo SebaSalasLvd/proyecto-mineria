{
 "cells": [
  {
   "cell_type": "markdown",
   "id": "1f182ea9",
   "metadata": {},
   "source": [
    "# Informe Hito 2 Mineria de Datos - Grupo 16\n",
    "## Integrantes:\n",
    "- Constanza Dominguez ()\n",
    "- Felipe Caballero ()\n",
    "- Jose Pablo Canales ()\n",
    "- Sebastian Salas ()\n",
    "- Vicente Arce ()"
   ]
  },
  {
   "cell_type": "markdown",
   "id": "a0d0a9fd",
   "metadata": {},
   "source": [
    "## 1. Introduccion\n",
    "\n",
    "En la actualidad, el universo de los videojuegos ha experimentado una expansión sin precedentes, con miles de títulos disponibles en múltiples plataformas y muchos más en desarrollo. Esta industria no solo ha crecido en termidos de producción y consumo, sino que tambien en la forma en que las personas interactúan con estos productos. El público que consume videojuegos abarca un amplio espectro demográfico, desde niños hasta adultos mayores, cada uno con percepciones, motivaciones y formas de relacionarse con los juegos significativamente distintas entre sí.\n",
    "\n",
    "Dentro de las muchas prácticas asociadas en este entorno, surge una que ha ganado popularidad a través de los años, los speedruns. Esta actividad consiste, basicamente, en completar un videojuego en el menor tiempo posible siguiendo reglas de la misma comunidad. Lo que comenzó como un nicho se ha convertido en una forma competitiva de juego y un fenómeno cultural que con sus competiciones organizadas y transmisiones en directo logran captar la atención de miles de personas por todo el mundo.\n",
    "\n",
    "Nuestro interés surgío, en un principio, por analizar un dataset centrado en los speedruns ya que ofrecía una buena calidad de datos y perspectiva social. Lo primero que se logró notar es que estos datos ofrecen una buena oportunidad para observar patrones de juego y rendimiento a través de distintos títulos, géneros y plataformas. Esto nos permitiría comprender mejor las dinamicas competitivas dentro de estas comunidades y extraer conocimiento valioso.\n",
    "\n",
    "Sin embargo, al explorar más a fondo, logramos apreciar que el enfoque podía ser mucho más amplio y enriquecedor que solo limitarse a speedruns. Por ello decidimos hacer un estudio más amplio que abarcara el espectro de los videojuegos de manera general, y con esta información lograremos revelar aspectos interesantes de las relaciones sociales en la era digital. No obstante, esa práctica dejó en claro que los videojuegos no son solo una forma de entretenimiento para niños, sino que es un espacio mucho más complejo donde es posible desarrollar habilidades cognitivas y motoras significativas. Además, estudios recientes han demostrado el potencial de los videojuegos en areas de educación, creatividad, e incluso las mejoras en salud mental como el combate del deterioro cognitivo en adultos mayores.\n",
    "\n",
    "En este informe exploraremos este dataset de manera sistemática, formulando hipótesis y extrayendo conocimiento significativo a partir de los registros de rendimiento en videojuegos, comprendiendo asi un fenomeno cultural contemporaneo."
   ]
  },
  {
   "cell_type": "markdown",
   "id": "9cdac973",
   "metadata": {},
   "source": [
    "## 2. Exploración de datos\n",
    "\n",
    "Se presenta un análisis exploratorio del dataset de juegos de *HowLongToBeat*, centrado en entender las relaciones entre reseñas, tiempo de juego y variables complementarias. El dataset contiene 108 columnas con métricas de participación de usuarios, tiempos de completado, reseñas, plataformas y metadatos de juegos.\n",
    "\n",
    "### Principales características del dataset\n",
    "\n",
    "Se analizaron las principales características del dataset original, con los siguientes resultados:\n",
    "\n",
    "| Métrica                                               | Valor     |\n",
    "|-------------------------------------------------------|-----------|\n",
    "| Total de juegos                                       | 147.474   |\n",
    "| Juegos sin reviews                                    | 89.939    |\n",
    "| Promedio de `game_review_score` (con reviews)         | 61.74     |\n",
    "| Promedio de duración principal (`game_comp_main_avg`) | 2.45 horas |\n",
    "| Promedio de duración entre modos de juego (`game_comp_all_avg`)          |5.23 horas|\n",
    "\n",
    "### Estadísticas descriptivas relevantes\n",
    "\n",
    "Se seleccionaron siete atributos relevantes basados en su potencial explicativo y cobertura de diferentes aspectos del dataset: calidad percibida, interacción de los usuarios, y duración del juego en horas.\n",
    "\n",
    "| Variable               | Media  | Mediana | Desvío estándar | Mínimo | Máximo     |\n",
    "| ---------------------- | ------ | ------- | --------------- | ------ | ---------- |\n",
    "| `game_review_score`    | 24.26  | 0.0     | 32.38           | 0.0    | 100.00     |\n",
    "| `review_review_count`  | 15.81  | 0.0     | 138.90          | 0.0    | 7439.00    |\n",
    "| `game_count_replay`    | 1.86   | 0.0     | 22.34           | 0.0    | 2165.00    |\n",
    "| `game_count_retired`   | 10.49  | 0.0     | 76.40           | 0.0    | 5227.00    |\n",
    "| `game_count_comp`      | 49.52  | 1.0     | 476.26          | 0.0    | 36371.00   |\n",
    "| `game_comp_all_avg`    | 5.23 h | 0.0 h   | 58.81 h         | 0.0 h  | 8105.08 h  |\n",
    "| `game_invested_mp_avg` | 1.51 h | 0.0 h   | 51.77 h         | 0.0 h  | 10000.00 h |\n",
    "\n",
    "De la tabla se puede ver la siguiente información:\n",
    "\n",
    "- La mayoría de los juegos tienen un puntaje de reseña bajo o nulo (game_review_score y review_review_count con mediana = 0), lo que sugiere una alta cantidad de juegos poco evaluados por la comunidad.\n",
    "\n",
    "- El promedio de game_count_comp es relativamente alto comparado con su mediana, lo que indica una distribución fuertemente sesgada: pocos juegos muy populares concentran la mayoría de las finalizaciones.\n",
    "\n",
    "- Las métricas de tiempo (game_comp_all_avg y game_invested_mp_avg) presentan desviaciones estándar elevadas y valores máximos extremos, lo que indica gran variabilidad en duración de juegos, desde experiencias muy breves hasta compromisos prolongados.\n",
    "\n",
    "- La baja mediana en casi todas las variables sugiere que la mayoría de los juegos tienen poca interacción o visibilidad, y solo un subconjunto reducido concentra el interés de los usuarios.\n",
    "\n",
    "Este análisis justifica la necesidad de filtrar y escalar las métricas en etapas posteriores del procesamiento, especialmente para tareas de modelado o visualización.\n",
    "\n",
    "### Análisis de atributos relacionados con \"review\"\n",
    "\n",
    "Los atributos asociados a las reseñas de usuarios constituyen variables clave en este conjunto de datos. Estos campos, identificables por la raíz léxica \"review\", cuantifican tanto el volumen como la valoración de las evaluaciones recibidas por cada juego. El campo game_review_score representa el puntaje promedio de reseñas que tiene un juego, con valores que oscilan entre 0 y 100.\n",
    "\n",
    "Adicionalmente, existen atributos con el formato review_X, donde X es un múltiplo de 5 entre 5 y 100 (por ejemplo, review_5, review_10, ..., review_100). Cada uno de estos atributos indica la cantidad de reseñas que otorgaron exactamente ese puntaje al juego. El campo review_review_count representa el número total de reseñas recibidas por el juego.\n",
    "\n",
    "A continuación, se presenta una tabla que agrupa los juegos según intervalos de puntaje promedio (game_review_score) y muestra la cantidad de juegos que caen en cada intervalo. Además, se incluye la cantidad total de juegos que no han recibido ninguna reseña.\n",
    "\n",
    "| #  | Intervalo de Puntaje | Cantidad de Juegos |\n",
    "|----|----------------------|---------------------|\n",
    "| 0  | 0-10                 | 90327               |\n",
    "| 1  | 10-20                | 1117                |\n",
    "| 2  | 20-30                | 1725                |\n",
    "| 3  | 30-40                | 2385                |\n",
    "| 4  | 40-50                | 4470                |\n",
    "| 5  | 50-60                | 8526                |\n",
    "| 6  | 60-70                | 14750               |\n",
    "| 7  | 70-80                | 15085               |\n",
    "| 8  | 80-90                | 6709                |\n",
    "| 9  | 90-100               | 1547                |\n",
    "\n",
    "Tambien se puede apreciar la siguiente distribución de los puntajes.\n",
    "\n",
    "| Intervalo       | % Juegos | Interpretación               |\n",
    "|-----------------|----------|------------------------------|\n",
    "| 0 (Sin reseñas) | 61.17%    | Posible ruido para análisis  |\n",
    "| 0-50            | 6.66%    | Recepción negativa           |\n",
    "| 50-80           | 26.01%    | Recepción moderada           |\n",
    "| 80-100          | 6.16%    | Excelente recepción          |\n",
    "\n",
    "Se observa que existe una gran cantidad de juegos no han recibido ninguna review. Incluir estos juegos en el dataset puede resultar problemático si se desea realizar análisis que relacionen el puntaje promedio de reviews con otros atributos. Esto se debe a que, al no tener ninguna reseña, su puntaje promedio se representa como 0, lo cual no refleja una calificación real y puede introducir ruido o sesgos en el análisis. Por lo tanto, puede ser recomendable excluir estos registros en estudios donde las reviews son una variable clave. A continuación se puede apreciar la diferencia entre tener o no los juegos sin reviews.\n",
    "\n",
    "<img src=\"img/juegos_vs_juegos_con_review.png\" alt=\"juegos_vs_juegos_con_review\" style=\"height:350px;\"/>\n",
    "\n",
    "Otro aspecto relevante del análisis es la relación entre la duración promedio de los juegos y su puntaje de reseñas. Para estudiar esta relación, se agruparon los juegos según su duración promedio (`game_comp_all_avg`), excluyendo aquellos que no cuentan con reseñas válidas. Esta decisión se justifica en que los juegos sin reseñas presentan un puntaje promedio de `0`, lo que no representa una calificación real y puede distorsionar los resultados.\n",
    "\n",
    "La siguiente tabla muestra la distribución de juegos por intervalo de duración:\n",
    "\n",
    "\n",
    "#### Cantidad de juegos por intervalo de duración (en horas)\n",
    "\n",
    "| Intervalo de Duración | Cantidad de Juegos |\n",
    "|------------------------|--------------------|\n",
    "| 0-50 hrs               | 55,002             |\n",
    "| 50-100 hrs             | 1,488              |\n",
    "| 100-200 hrs            | 462                |\n",
    "| 200-500 hrs            | 192                |\n",
    "| 500-1000 hrs           | 67                 |\n",
    "| >1000 hrs              | 54                 |\n",
    "\n",
    "\n",
    "Como se observa, la gran mayoría de los juegos se concentran en el primer intervalo (menos de 50 horas), lo cual sugiere que el análisis visual con todos los datos puede estar fuertemente sesgado por outliers con duraciones extremadamente altas.\n",
    "\n",
    "La siguiente visualización muestra dos gráficos de dispersión que relacionan la duración promedio de juego con su puntuación promedio de reseñas:\n",
    "\n",
    "- El primero incluye todos los juegos válidos (sin reviews nulas),\n",
    "- El segundo muestra el 95% inferior de los datos, eliminando outliers extremos.\n",
    "\n",
    "<img src=\"img/puntuacion_vs_duracion_outlier.png\" alt=\"puntuacion_vs_duracion_outlier\" style=\"height:350px;\"/>"
   ]
  },
  {
   "cell_type": "markdown",
   "id": "472ff0a8",
   "metadata": {},
   "source": [
    "\n",
    "Como puede apreciarse, al eliminar los valores atípicos (gráfico derecho), los puntos se agrupan de forma más compacta y se vuelve más evidente la estructura de los datos. Esta limpieza permite observar mejor la densidad y distribución de los juegos según su duración, revelando posibles patrones en su relación con la puntuación.\n",
    "\n",
    "En particular, se nota que los juegos más extensos dentro del rango no atípico (hasta aproximadamente 100 horas) tienden a concentrarse en un rango de puntuaciones relativamente alto, aunque no necesariamente máximo. Esta observación sugiere una posible correlación entre mayor tiempo de juego y recepción más favorable por parte de los usuarios, aunque dicha correlación no es estrictamente lineal ni concluyente a simple vista.\n",
    "\n",
    "Cabe destacar que en el gráfico sin outliers también se percibe una mayor variedad de puntuaciones en juegos de duración media (20–60 horas), lo que podría estar asociado a una mayor diversidad de géneros o experiencias ofrecidas en ese rango."
   ]
  },
  {
   "cell_type": "markdown",
   "id": "7f7b51c1",
   "metadata": {},
   "source": [
    "### Reducción de dimensiones\n",
    "\n",
    "El conjunto de datos original contenía una gran cantidad de columnas, muchas de las cuales resultaban redundantes, irrelevantes o difíciles de interpretar. Con el objetivo de simplificar el análisis y mejorar la eficiencia de los modelos posteriores, se aplicó un proceso de reducción de dimensionalidad. Este proceso consistió en descartar o agrupar columnas según su utilidad y significado. Las decisiones principales fueron las siguientes:\n",
    "\n",
    "- **Eliminación de columnas con significado desconocido:**\n",
    "  Al haber sido recolectado mediante scraping, el dataset incluía 15 columnas cuyo propósito no pudo ser identificado. Estas columnas carecían de nombre descriptivo, contexto o documentación, lo que impedía su correcta interpretación y análisis. Por esta razón, se descartaron completamente.\n",
    "\n",
    "- **Eliminación de columnas con información no procesable:**\n",
    "  Se identificaron 6 columnas que contenían enlaces a imágenes, perfiles de usuario, páginas externas o texto libre sin una estructura estandarizada (como descripciones o títulos alternativos). Debido a que esta información no era útil en el contexto del análisis cuantitativo, también se eliminaron.\n",
    "\n",
    "- **Agrupación de columnas de distribución de puntuaciones:**\n",
    "  El dataset contenía 20 columnas del tipo `review_X`, donde `X` representa distintos umbrales de puntuación (5, 10, 15, ..., 100). Estas columnas representaban la cantidad de reseñas que asignaron una puntuación dentro de un cierto rango. Para reducir la dimensionalidad sin perder información significativa, se agruparon en cinco intervalos más amplios:\n",
    "\n",
    "  - `review_20`: puntuaciones entre 1 y 20\n",
    "  - `review_40`: puntuaciones entre 21 y 40\n",
    "  - `review_60`: puntuaciones entre 41 y 60\n",
    "  - `review_80`: puntuaciones entre 61 y 80\n",
    "  - `review_100`: puntuaciones entre 81 y 100\n",
    "\n",
    "  Esta transformación redujo las 20 columnas originales a solo 5, manteniendo la esencia de la distribución de puntuaciones y facilitando tanto la visualización como el procesamiento estadístico posterior.\n",
    "\n",
    "En conjunto, estas acciones permitieron depurar significativamente el conjunto de datos, enfocando el análisis en variables relevantes y mejorando la interpretabilidad sin comprometer la calidad de la información.\n"
   ]
  },
  {
   "cell_type": "markdown",
   "id": "17c97933",
   "metadata": {},
   "source": [
    "## 3. Preguntas y problemas\n",
    "\n",
    "A partir del set de datos y la exploración de este, se ha llegado a plantear las siguiente preguntas:"
   ]
  },
  {
   "cell_type": "markdown",
   "id": "498873b0",
   "metadata": {},
   "source": [
    "#### 1. ¿Qué características (género, tiempo de juego, rating) predicen mejor si un juego tendrá clasificación ESRB \"M\" (Maduro) frente a otras (ej: \"T\" para Teen)? ¿Puedo predecir cualquier clasificación de un juego basado en estos atributos? \n",
    "\n",
    "La clasificación de un juego determina el público objetivo de este. Entender qué características de un juego correlacionan con esto ayudará a la hora del desarrollo de este. Hipótesis: Juegos con etiquetas como Horror o Acción serán etiquetados como 'M'.  Así mismo, juegos con mayores tiempo de completitud serán de rating al menos M. Entonces, debería ser posible determinar el rating a partir de estas variables.\n",
    "\n",
    "#### 2. ¿Podemos predecir el promedio de reviews de un juego en función de su tasa de abandono?\n",
    "\n",
    "Los reviews de un juegos son un indicador de la recepción de este por parte de los jugadores, si un juego tiene altas tasas de abadono ¿repercute directamente en la review que reciba? Hipótesis: Los juegos con mayor tasa de abandono tendrán menores promedios de reviews que los con menos abandono.\n",
    "\n",
    "#### 3. ¿Existen grupos de juegos con patrones similares que permitan agruparlos para recomendaciones?\n",
    "\n",
    "Idintificar grupos entre los juegos para catalogarlos como 'similares' entre sí y poder ser recomendados juntos. Hipótesis: que se formen grupos entre juegos más rápidos de pasar y con menor rating, o juegos que tienen alto abandono y pertenecen a ciertos géneros.\n",
    "\n",
    "#### 4. ¿Existen combinaciones de géneros o características (ej: \"RPG + Open World\") que correlacionen con tasas de abandono excepcionalmente altas/bajas?\n",
    "\n",
    "Se busca encontrar características que influyan en el abandono de un juego. Hipótesis: Combinaciones como 'RPG + Open World' tendrán tasa de abandono significativamente mayor que 'RPG lineal', debido a la fatiga por contenido repetitivo. Otro como 'puzzle + indie' deben tener menos abandono quizás relacionado con su tiempo de completación."
   ]
  },
  {
   "cell_type": "markdown",
   "id": "6a3fe1d6",
   "metadata": {},
   "source": [
    "**Para el desarrollo del hito 2 se tomó la decisión de no continuar con la primera pregunta ya que resulta redundante y no aporta suficiente información en comparación de las demás preguntas. La pregunta de qué características predicen una clasificación ‘M’ es más relevante para quienes están interesados en cumplir con los requisitos regulatorios o comerciales de un mercado específico, pero no necesariamente en el análisis profundo de las preferencias y tendencias de los jugadores.**"
   ]
  },
  {
   "cell_type": "markdown",
   "id": "4c509b69",
   "metadata": {},
   "source": [
    "## 4. Propuesta Metodológica Experimental"
   ]
  },
  {
   "cell_type": "markdown",
   "id": "7d00dc39",
   "metadata": {},
   "source": [
    "#### Pregunta - promedio de reviews a partir de tasa de abandono y rejugabilidad\n",
    "\n",
    "Para responder la pregunta *¿Es posible predecir el promedio de reviews a partir de la tasa de abandono y rejugabilidad?*, planteamos un enfoque supervisado\n",
    "Preprocesamiento\n",
    "- Se mantiene el preprocesamiento mencionado anteriormente que ayuda a la limpieza de datos y reducción de dimensionalidad.\n",
    "- Dejaremos solo las columnas que nos sirvan, en este caso, las de cantidad de abandonos, las de rejugabilidad, las de completitud, las totales, las cantidades de reviews y el promedio de reviews.\n",
    "- Buscaremos un threshold para eliminar las filas que no contengan reviews y las que no tengan muy poca informacion sobre sus datos de abandonos y rejugabilidad.\n",
    "\n",
    "Modelo y técnica de minería de datos a utilizar\n",
    "\n",
    "Se utilizará un enfoque supervisado, ya que tenemos una variable objetivo conocida y queremos predecirla utilizando la tasa de abandono/rejugabilidad para ello se investigará la efectividad de\n",
    "- Regresión lineal como modelo base para tener una primera aproximación a la relación entre las variables.\n",
    "- Random Forest para identificar el caso en que se tenga una relación no lineal o interacciones entre las variables predictoras.\n",
    "\n",
    "Criterio de evaluación de los resultados\n",
    "- R² como medida de calidad global\n",
    "- MSE como medida de error cuadrático medio para evaluar la precisión del modelo.\n"
   ]
  },
  {
   "cell_type": "markdown",
   "id": "dfe462e0",
   "metadata": {},
   "source": [
    "#### Pregunta - Grupos de juegos con patrones similares para recomendaciones.\n",
    "\n",
    "Para responder la pregunta *¿Existen grupos de juegos con patrones similares que permitan agruparlos para recomendaciones?*, aplicaremos un enfoque no supervisado basado en clustering\n",
    "\n",
    "Preprocesamiento necesario adicional\n",
    "- Se mantiene el preprocesamiento mencionado anteriormente que ayuda a la limpieza de datos y reducción de dimensionalidad.\n",
    "\n",
    "Modelo y Técnica de minería de datos a utilizar\n",
    "- Se utilizará un enfoque no supervisado basado en clustering, esto porque no contamos con etiquetas predefinidas de \"juegos recomendables juntos\". Se evaluará con el algoritmo de k-means esperando una respuesta de grupos homogéneos, comparar con varios valores de k. Además se comparará con DBSCAN, que encontrará un número de clusters y permitirá contrastar en caso de que los grupos no sean homogéneos ni con una forma esférica.\n",
    "\n",
    "Criterio de evaluación de los resultados\n",
    "- Se utilizará Silhouette Score para ver que tan separados y cohesionado está un punto en su cluster y así se comparará para los distintos valores de k en k-means. Esto permitirá escoger un valor de k apropiado y que los clusters generados correspondan efectivamente a grupos cohesionados y separados.\n",
    "- Se utilizará una evaluación semántica basada en el contexto, sobre todo se pretende evaluar aquí que tenga sentido que ciertos juegos estén agrupados y que por ende compartan algunos atributos como género, promedio de reviews, promedio en tiempo de completitud, entre otros.\n"
   ]
  },
  {
   "cell_type": "markdown",
   "id": "3b686949",
   "metadata": {},
   "source": [
    "#### Pregunta - Combinaciones de géneros o características que correlacionen con tasas de abandono expecionalmente bajas/altas?\n",
    "\n",
    "Para responder la pregunta *¿Existen combinaciones de géneros o características (ej: \"RPG + Open World\") que correlacionen con tasas de abandono excepcionalmente altas/bajas?*, aplicaremos un enfoque no supervisado basado en clustering\n",
    "\n",
    "Preprocesamiento necesario\n",
    "- Convertir game_profile_genre en variables binarias, permitiendo detectar combinaciones como \"RPG + Open World\"\n",
    "- Definición de tasa de abandono: $\\text{Tasa de abandono} = \\frac{\\text{game\\_count\\_retired}}{\\text{game\\_count\\_total}}$\n",
    "- Filtrado de juegos con baja cantidad de usuarios: Para evitar sesgos por juegos con pocos registros, se puede eligir un umbral mínimo de 10 usuarios.\n",
    "- Agrupación de características adicionales:\n",
    "Incluir variables binarias para: plataforma principal (game_profile_platform), modos de juego (game_comp_lvl_sp, co, mp), tipo de juego (game_game_type). Esto permitirá generar un análisis más granular y con mayor control en los datos.\n",
    "\n",
    "Modelo y Técnica de minería de datos a utilizar\n",
    "Se aplicará un enfoque no supervisado sobre las combinaciones de géneros y características jugables para encontrar patrones asociados a tasas de abandono. Es no supervisado dado que no conocemos combinaciones de antemano que aseguren una correlacion con tasas de abandono.\n",
    "- Se utilizará K-Means para evaluar agrupaciones homogéneas en torno a tasas de abandono similares.\n",
    "- Se probará también con DBSCAN como técnica alternativa, especialmente útil si los grupos son irregulares o no esféricos.\n",
    "\n",
    "Criterio de evaluación de los resultados\n",
    "- Se utilizará el Silhouette Score para evaluar la coherencia interna de los clusters formados."
   ]
  },
  {
   "cell_type": "markdown",
   "id": "b56eea2a",
   "metadata": {},
   "source": [
    "## 5. Resultados"
   ]
  },
  {
   "cell_type": "markdown",
   "id": "f3b563fb",
   "metadata": {},
   "source": [
    "### Pregunta 3 - ¿Existen grupos de juegos con patrones similares que permitan agruparlos para recomendaciones?"
   ]
  },
  {
   "cell_type": "markdown",
   "id": "4fc7f956",
   "metadata": {},
   "source": [
    "#### Análisis Preliminar de los Datos\n",
    "\n",
    "Dada la naturaleza de la pregunta, corresponde establecer un límite inferior tanto para el número de reviews mínimo, como para un score aceptable para generar recomendaciones. Para encontrar estos valores primero evaluaremos el mínimo de reviews que tiene que tener un juego para ser considerado en el análisis.\n",
    "\n",
    "Para garantizar la validez de los grupos recomendados, se introdujo la métrica tasa de reseñas, definida como el cociente entre el número de reseñas y el número total de jugadores registrados para cada título. Esta medida evita sesgos provocados por juegos muy populares pero poco valorados, o viceversa.\n",
    "\n",
    "Luego la tasa de reseñas inicial fue:\n",
    "<p align=\"center\"> <img src=\"img_p3/hist_reseñas.png\" width=\"550\"> </p>\n",
    "\n",
    "Tras observar una gran cantidad de juegos con tasa nula o muy baja, se analizaron los percentiles. Se optó por conservar únicamente los juegos ubicados desde el percentil 50 hacia arriba, es decir, aquellos cuya tasa de reseñas es igual o superior a 0.215. Esto asegura una base más robusta para el análisis.\n",
    "\n",
    "<p align=\"center\"> <img src=\"img_p3/reseñas_filtrado.png\" width=\"550\"> </p>\n",
    "\n",
    "Por otra parte, el atributo de generos originalmente venía en formato de strings, lo cual dificultaba su tratamiento. Se procedió a transformarlo en una representación binaria, obteniendo asi un dato que se podia trabajar de mejor manera.\n",
    "\n",
    "Esta transformación permitió utilizar directamente la pertenencia de un juego a uno o varios géneros como variables de entrada para los algoritmos de agrupamiento."
   ]
  },
  {
   "cell_type": "markdown",
   "id": "0061a991",
   "metadata": {},
   "source": [
    "#### Entrenamiento y evaluación del modelo\n",
    "\n",
    "Realizamos el proceso de entrenamiento y evaluación de ambos modelos en base a dos grandes grupos, en el primero se tomo en consideracion el conjunto de todos los atributos, y en el segundo el agrupamiento por generos\n",
    "\n",
    "1. **Agrupamiento con Todos los Atributos**\n",
    "\n",
    "Se aplicaron los algoritmos KMeans y DBSCAN sobre un conjunto de datos completo (que incluye métricas como la tasa de reseñas y variables de interacción), previa reducción de dimensionalidad mediante PCA. Se identificó un punto de inflexión alrededor de 10 clusters con el método del codo.\n",
    "\n",
    "<p align=\"center\"> <img src=\"img_p3/clusters1.png\" width=\"750\"> </p>\n",
    "\n",
    "\n",
    "Los resultados obtenidos fueron:\n",
    "\n",
    "- Silhouette Score KMeans: 0.811\n",
    "\n",
    "- Silhouette Score DBSCAN: -0.75\n",
    "\n",
    "- DBSCAN - puntos de ruido: más de 31.000\n",
    "\n",
    "Esto sugiere que KMeans captura mejor las estructuras subyacentes en los datos completos, generando agrupaciones cohesionadas.\n",
    "\n",
    "2. **Agrupamiento Basado Solo en Géneros**\n",
    "\n",
    "Posteriormente se repitió el procedimiento considerando únicamente las columnas de generos binarizados como atributos de entrada. Aunque el método del codo no mostró un punto de inflexión claro, se utilizó un valor de 𝑘=35 para KMeans.\n",
    "\n",
    "<p align=\"center\"> <img src=\"img_p3/clusters2.png\" width=\"750\"> </p>\n",
    "\n",
    "\n",
    "Resultados obtenidos:\n",
    "\n",
    "- Silhouette Score KMeans: 0.384\n",
    "\n",
    "- Silhouette Score DBSCAN: 0.648\n",
    "\n",
    "- DBSCAN - puntos de ruido: 3.805\n",
    "\n",
    "En este enfoque, aunque los scores fueron más bajos en general, se identificaron grupos temáticamente coherentes, lo cual valida parcialmente su utilidad en contextos específicos."
   ]
  },
  {
   "cell_type": "markdown",
   "id": "6beead45",
   "metadata": {},
   "source": [
    "#### Interpretación de Clusters\n",
    "Para validar los agrupamientos obtenidos, se seleccionaron ejemplos específicos de clusters generados con ambos algoritmos. En el caso de KMeans sobre el conjunto completo, el cluster 12 agrupó juegos con una fuerte carga narrativa, de aventura o misterio, con una clara orientación a experiencias interactivas en tercera persona. DBSCAN, por su parte, identificó en su cluster 12 una cohorte de novelas visuales japonesas, y títulos centrados en narrativa lineal.\n",
    "\n",
    "Esta coherencia temática sugiere que los clusters no solo tienen sentido desde una perspectiva estadística, sino también desde la experiencia empirica del jugador."
   ]
  },
  {
   "cell_type": "markdown",
   "id": "840aa258",
   "metadata": {},
   "source": [
    "#### Conclusiones Preliminares\n",
    "\n",
    "El análisis exploratorio realizado, sustentado en la binarización de géneros y filtros de reseña y puntajes, permitió identificar agrupamientos coherentes entre titulos con perfiles de genero similares. Esta estrategia demostró ser efectiva para estructurar el conjunto de datos de manera significativa, enfocandose en juegos que, por su nivel de recepción y evaluación, representan un subconjunto más confiable del universo total.\n",
    "\n",
    "La aplicación del Método del Codo para ambos métodos implicó un análisis distinto, en primer lugar para el análisis completo se tiene una gráfica con una pendiente pronunciada que alcanza un punto de inflexión cercano a 10 clusters mientras que para el método que sólo considera los géneros se tiene una curva más suave que no presentó un punto de inflexión claramente definido, en este caso se considero que 35 clusters corresponde a un valor óptimo. Estas cantidades lograron equilibrar tanto la representación de la diversidad de combinaciones de genero, como la cohesión interna dentro de cada grupo. Clusters como el seleccionado nos dan cuenta de la autenticidad de los resultados obtenidos, ya que agrupan videojuegos con una gran carga narrativa, acción y tercera persona. Esto nos da cuenta de la utilidad del enfoque basado en géneros binarios como una herramienta potencial para sistemas de recomendación.\n",
    "\n",
    "En cuanto a las técnicas de agrupamiento, pimero tenemos la ejecución dónde se consideró toda la data que evidencia una buena relación de clusters luego de entregando un silhouette score para kmeans de 0.811 y para dbscan de -0.75. En el análisis exclusivo de los géneros se obtiene un silhouette score de 0.38 para kmeans y 0.65 para dbscan. Esta información nos permite concluir que el mejor análisis para recomendar juegos se debe realizar utilizando kmeans con todos los datos, ya que si se compara con los clusters obtenidos en kmeans/dbscan en el caso de los generos podemos observar a través de los gráficos que no logra identificar correctamente los grupos."
   ]
  },
  {
   "cell_type": "markdown",
   "id": "de9c6887",
   "metadata": {},
   "source": [
    "#### Posibles Mejoras\n",
    "\n",
    "Una de las mejoras más relevantes consiste en ampliar el espacio de características más allá de la información proporcionada, incorporar variables adicionales permitiría capturar aspectos que hoy quedan fuera del análisis. Por ejemplo, integrar métricas como el tiempo promedio de speedrun, su desviación estándar o incluso el tipo de final alcanzado, podría diferenciar entre juegos de ritmo vertiginoso y aquellos con un desarrollo más pausado, incluso dentro de un mismo género.\n",
    "\n",
    "A la vez, añadir información contextual sobre las plataformas aportaría una capa adicional sobre la experiencia de juego. La inclusión de análisis de sentimiento o técnicas de extracción de temas a partir de reseñas y descripciones textuales podría reflejar la percepción real de la comunidad, identificando atributos más subjetivos que no son captados por los géneros formales. Esto ayudaría, por ejemplo, a distinguir entre un plataformero clásico con un juego del estilo metroidvania, que aunque comparten aspectos similares, sus experiencias de juego son en escencia muy diferentes.\n",
    "\n",
    "En cuanto a los algoritmos, explorar con modelos jerárquicos podría revelar relaciones más finas entre géneros y subgéneros, ya que con los modelos actuales no queda tan claro el punto de inflexión en juegos que tengan una combinación de generos altamente cohesionados, lo que si es mucho mas claro al considerarlos jerarquicamente.\n",
    "\n",
    "Por ultimo,  incluir encuestas a jugadores para verificar que los clusters resultantes no solo sean coherentes desde un punto de vista estadístico, sino también relevantes y útiles desde la experiencia del usuario."
   ]
  },
  {
   "cell_type": "markdown",
   "id": "34a60e68",
   "metadata": {},
   "source": [
    "## Anexo\n",
    "- Link a codigo para la exploracion de datos: https://github.com/SebaSalasLvd/proyecto-mineria/blob/main/hito-1/Exploracion_Datos_Hito_1.ipynb\n",
    "- Link a codigo para los resultados preliminares: https://github.com/SebaSalasLvd/proyecto-mineria/blob/main/hito-1/resultados_prelim.ipynb"
   ]
  }
 ],
 "metadata": {
  "kernelspec": {
   "display_name": "Python 3",
   "language": "python",
   "name": "python3"
  },
  "language_info": {
   "codemirror_mode": {
    "name": "ipython",
    "version": 2
   },
   "file_extension": ".py",
   "mimetype": "text/x-python",
   "name": "python",
   "nbconvert_exporter": "python",
   "pygments_lexer": "ipython2",
   "version": "2.7.6"
  }
 },
 "nbformat": 4,
 "nbformat_minor": 5
}
