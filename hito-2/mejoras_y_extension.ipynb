{
 "cells": [
  {
   "cell_type": "markdown",
   "id": "9cf711d7",
   "metadata": {},
   "source": [
    "#### Mejoras y extension del trabajo\n",
    "\n",
    "El desarrollo de este estudio permitió identificar multiples oportunidades de mejora y proyección que podrían enriquecer significativamente los resultados obtenidos y ampliar el alcance del análisis realizado. Una de las extensiones más directas consiste en la aplicación de modelos más complejos para abordar las tareas de predicción y categorización. La implementación de redes neuronales artificiales o técnicas de deep learning permitiría capturar relaciones no lineales de mayor complejidad y que no fueron analizadas en este estudio. Estos enfoques, al combinar caracteristicas, podrían ser especialmente utiles para predecir comportamientos de usuarios, como el tiempo de juego, la probabilidad de completar un título o las reviews asignadas.\n",
    "\n",
    "A su vez, el enfoque utilizado en este proyecto puede ser extrapolado a otros tópicos del entretenimiento digital, como el cine o las series de televisión. Estos comparten muchas de las propiedades que analizamos para los videojuegos (duración, genero, reviews, plataformas, etc.), por lo que aplicar metodologías similares en esos contextos permitiría estudiar patrones de consumo cultural a una escala más amplia y comparativa sobre variados temas.\n",
    "\n",
    "Otra mejora significativa radica en la posibilidad de abastecer el conjunto de datos utilizado mediante la integración de información proveniente de otras fuentes. Muchas de las entradas del dataset actual incluyen enlaces cruzados a plataformas como SteamDB, IGN o Metacritic, lo que abre la puerta a realizar una unión estructurada con estos repositorios externos. Esto permitiría incorporar variables adicionales como precios históricos, datos de popularidad, fechas de lanzamiento o compatibilidad por plataforma, e incluso enriqueciendo el conjunto de datos ya utilizado, completando información faltante, ampliando así el análisis y mejorando la capacidad predictiva de los modelos.\n",
    "\n",
    "En cuanto a recomendaciones metodológicas, uno de los aspectos clave a reforzar es el estudio de la calidad del conjunto de datos. Al tratarse de información reportada por los mismos usuarios de HowLongToBeat, es común encontrar registros incompletos o inconsistentes. Por ejemplo, hay juegos que cuentan con reseñas pero sin datos asociados a la duración real de juego, o entradas donde no se ha especificado si el título fue finalizado o abandonado. Este tipo de vacíos puede introducir sesgos en los análisis, por lo que se recomienda implementar filtros más estrictos de validación, o aplicar estrategias de ponderación que tomen en cuenta la tasa de cada entrada. De esta forma, se aseguraría una mayor robustez en los resultados y una mejor interpretación de los patrones observados."
   ]
  }
 ],
 "metadata": {
  "language_info": {
   "name": "python"
  }
 },
 "nbformat": 4,
 "nbformat_minor": 5
}
