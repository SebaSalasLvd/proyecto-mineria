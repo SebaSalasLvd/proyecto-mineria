{
 "cells": [
  {
   "cell_type": "markdown",
   "id": "98c668c8",
   "metadata": {},
   "source": [
    "### 5. Resultados Preliminares\n",
    "\n",
    "#### Pregunta 3\n",
    "\n",
    "#### Análisis Preliminar de los Datos\n",
    "\n",
    "\n",
    "#### Construcción del Conjunto de Datos\n",
    "\n",
    "\n",
    "#### Entrenamiento y Evaluación de Modelos\n",
    "\n",
    "\n",
    "#### Conclusiones Preliminares\n",
    "\n",
    "\n",
    "#### Posibles Mejoras\n",
    "\n"
   ]
  },
  {
   "cell_type": "code",
   "execution_count": 283,
   "id": "3c6d82f8",
   "metadata": {},
   "outputs": [],
   "source": [
    "import pandas as pd\n",
    "\n",
    "# Cargar CSV\n",
    "csv_path = './hltb_data.csv'\n",
    "df = pd.read_csv(csv_path, low_memory=False)"
   ]
  },
  {
   "cell_type": "code",
   "execution_count": null,
   "id": "eb747ef4",
   "metadata": {},
   "outputs": [],
   "source": []
  }
 ],
 "metadata": {
  "kernelspec": {
   "display_name": ".venv",
   "language": "python",
   "name": "python3"
  },
  "language_info": {
   "codemirror_mode": {
    "name": "ipython",
    "version": 3
   },
   "file_extension": ".py",
   "mimetype": "text/x-python",
   "name": "python",
   "nbconvert_exporter": "python",
   "pygments_lexer": "ipython3",
   "version": "3.13.3"
  }
 },
 "nbformat": 4,
 "nbformat_minor": 5
}
