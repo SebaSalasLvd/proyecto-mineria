{
 "cells": [
  {
   "cell_type": "markdown",
   "id": "ba1eef52",
   "metadata": {},
   "source": [
    "### Pregunta 3 - ¿Existen grupos de juegos con patrones similares que permitan agruparlos para recomendaciones?"
   ]
  },
  {
   "cell_type": "markdown",
   "id": "4ee50df5",
   "metadata": {},
   "source": [
    "#### Análisis Preliminar de los Datos\n",
    "\n",
    "Dada la naturaleza de la pregunta, corresponde establecer un límite inferior tanto para el número de reviews mínimo, como para un score aceptable para generar recomendaciones. Para encontrar estos valores primero evaluaremos el mínimo de reviews que tiene que tener un juego para ser considerado en el análisis.\n",
    "\n",
    "Para garantizar la validez de los grupos recomendados, se introdujo la métrica tasa de reseñas, definida como el cociente entre el número de reseñas y el número total de jugadores registrados para cada título. Esta medida evita sesgos provocados por juegos muy populares pero poco valorados, o viceversa.\n",
    "\n",
    "Luego la tasa de reseñas inicial fue:\n",
    "<p align=\"center\"> <img src=\"img_p3/hist_reseñas.png\" width=\"550\"> </p>\n",
    "\n",
    "Tras observar una gran cantidad de juegos con tasa nula o muy baja, se analizaron los percentiles. Se optó por conservar únicamente los juegos ubicados desde el percentil 50 hacia arriba, es decir, aquellos cuya tasa de reseñas es igual o superior a 0.215. Esto asegura una base más robusta para el análisis.\n",
    "\n",
    "<p align=\"center\"> <img src=\"img_p3/reseñas_filtrado.png\" width=\"550\"> </p>\n",
    "\n",
    "Por otra parte, el atributo de generos originalmente venía en formato de strings, lo cual dificultaba su tratamiento. Se procedió a transformarlo en una representación binaria, obteniendo asi un dato que se podia trabajar de mejor manera.\n",
    "\n",
    "Esta transformación permitió utilizar directamente la pertenencia de un juego a uno o varios géneros como variables de entrada para los algoritmos de agrupamiento."
   ]
  },
  {
   "cell_type": "markdown",
   "id": "412b44c1",
   "metadata": {},
   "source": [
    "#### Entrenamiento y evaluación del modelo\n",
    "\n",
    "Realizamos el proceso de entrenamiento y evaluación de ambos modelos en base a dos grandes grupos, en el primero se tomo en consideracion el conjunto de todos los atributos, y en el segundo el agrupamiento por generos\n",
    "\n",
    "1. **Agrupamiento con Todos los Atributos**\n",
    "\n",
    "Se aplicaron los algoritmos KMeans y DBSCAN sobre un conjunto de datos completo (que incluye métricas como la tasa de reseñas y variables de interacción), previa reducción de dimensionalidad mediante PCA. Se identificó un punto de inflexión alrededor de 10 clusters con el método del codo.\n",
    "\n",
    "<p align=\"center\"> <img src=\"img_p3/clusters1.png\" width=\"750\"> </p>\n",
    "\n",
    "\n",
    "Los resultados obtenidos fueron:\n",
    "\n",
    "- Silhouette Score KMeans: 0.811\n",
    "\n",
    "- Silhouette Score DBSCAN: -0.75\n",
    "\n",
    "- DBSCAN - puntos de ruido: más de 31.000\n",
    "\n",
    "Esto sugiere que KMeans captura mejor las estructuras subyacentes en los datos completos, generando agrupaciones cohesionadas.\n",
    "\n",
    "2. **Agrupamiento Basado Solo en Géneros**\n",
    "\n",
    "Posteriormente se repitió el procedimiento considerando únicamente las columnas de generos binarizados como atributos de entrada. Aunque el método del codo no mostró un punto de inflexión claro, se utilizó un valor de 𝑘=35 para KMeans.\n",
    "\n",
    "<p align=\"center\"> <img src=\"img_p3/clusters2.png\" width=\"750\"> </p>\n",
    "\n",
    "\n",
    "Resultados obtenidos:\n",
    "\n",
    "- Silhouette Score KMeans: 0.384\n",
    "\n",
    "- Silhouette Score DBSCAN: 0.648\n",
    "\n",
    "- DBSCAN - puntos de ruido: 3.805\n",
    "\n",
    "En este enfoque, aunque los scores fueron más bajos en general, se identificaron grupos temáticamente coherentes, lo cual valida parcialmente su utilidad en contextos específicos."
   ]
  },
  {
   "cell_type": "markdown",
   "id": "f8af873e",
   "metadata": {},
   "source": [
    "#### Interpretación de Clusters\n",
    "Para validar los agrupamientos obtenidos, se seleccionaron ejemplos específicos de clusters generados con ambos algoritmos. En el caso de KMeans sobre el conjunto completo, el cluster 12 agrupó juegos con una fuerte carga narrativa, de aventura o misterio, con una clara orientación a experiencias interactivas en tercera persona. DBSCAN, por su parte, identificó en su cluster 12 una cohorte de novelas visuales japonesas, y títulos centrados en narrativa lineal.\n",
    "\n",
    "Esta coherencia temática sugiere que los clusters no solo tienen sentido desde una perspectiva estadística, sino también desde la experiencia empirica del jugador."
   ]
  },
  {
   "cell_type": "markdown",
   "id": "da2676bf",
   "metadata": {},
   "source": [
    "#### Conclusiones Preliminares\n",
    "\n",
    "El análisis exploratorio realizado, sustentado en la binarización de géneros y filtros de reseña y puntajes, permitió identificar agrupamientos coherentes entre titulos con perfiles de genero similares. Esta estrategia demostró ser efectiva para estructurar el conjunto de datos de manera significativa, enfocandose en juegos que, por su nivel de recepción y evaluación, representan un subconjunto más confiable del universo total.\n",
    "\n",
    "La aplicación del Método del Codo para ambos métodos implicó un análisis distinto, en primer lugar para el análisis completo se tiene una gráfica con una pendiente pronunciada que alcanza un punto de inflexión cercano a 10 clusters mientras que para el método que sólo considera los géneros se tiene una curva más suave que no presentó un punto de inflexión claramente definido, en este caso se considero que 35 clusters corresponde a un valor óptimo. Estas cantidades lograron equilibrar tanto la representación de la diversidad de combinaciones de genero, como la cohesión interna dentro de cada grupo. Clusters como el seleccionado nos dan cuenta de la autenticidad de los resultados obtenidos, ya que agrupan videojuegos con una gran carga narrativa, acción y tercera persona. Esto nos da cuenta de la utilidad del enfoque basado en géneros binarios como una herramienta potencial para sistemas de recomendación.\n",
    "\n",
    "En cuanto a las técnicas de agrupamiento, pimero tenemos la ejecución dónde se consideró toda la data que evidencia una buena relación de clusters luego de entregando un silhouette score para kmeans de 0.811 y para dbscan de -0.75. En el análisis exclusivo de los géneros se obtiene un silhouette score de 0.38 para kmeans y 0.65 para dbscan. Esta información nos permite concluir que el mejor análisis para recomendar juegos se debe realizar utilizando kmeans con todos los datos, ya que si se compara con los clusters obtenidos en kmeans/dbscan en el caso de los generos podemos observar a través de los gráficos que no logra identificar correctamente los grupos."
   ]
  },
  {
   "cell_type": "markdown",
   "id": "4f758f7d",
   "metadata": {},
   "source": [
    "#### Posibles Mejoras\n",
    "\n",
    "Una de las mejoras más relevantes consiste en ampliar el espacio de características más allá de la información proporcionada, incorporar variables adicionales permitiría capturar aspectos que hoy quedan fuera del análisis. Por ejemplo, integrar métricas como el tiempo promedio de speedrun, su desviación estándar o incluso el tipo de final alcanzado, podría diferenciar entre juegos de ritmo vertiginoso y aquellos con un desarrollo más pausado, incluso dentro de un mismo género.\n",
    "\n",
    "A la vez, añadir información contextual sobre las plataformas aportaría una capa adicional sobre la experiencia de juego. La inclusión de análisis de sentimiento o técnicas de extracción de temas a partir de reseñas y descripciones textuales podría reflejar la percepción real de la comunidad, identificando atributos más subjetivos que no son captados por los géneros formales. Esto ayudaría, por ejemplo, a distinguir entre un plataformero clásico con un juego del estilo metroidvania, que aunque comparten aspectos similares, sus experiencias de juego son en escencia muy diferentes.\n",
    "\n",
    "En cuanto a los algoritmos, explorar con modelos jerárquicos podría revelar relaciones más finas entre géneros y subgéneros, ya que con los modelos actuales no queda tan claro el punto de inflexión en juegos que tengan una combinación de generos altamente cohesionados, lo que si es mucho mas claro al considerarlos jerarquicamente.\n",
    "\n",
    "Por ultimo,  incluir encuestas a jugadores para verificar que los clusters resultantes no solo sean coherentes desde un punto de vista estadístico, sino también relevantes y útiles desde la experiencia del usuario."
   ]
  }
 ],
 "metadata": {
  "language_info": {
   "name": "python"
  }
 },
 "nbformat": 4,
 "nbformat_minor": 5
}
