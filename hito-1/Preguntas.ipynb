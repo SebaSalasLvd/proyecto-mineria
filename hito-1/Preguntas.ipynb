{
 "cells": [
  {
   "cell_type": "markdown",
   "id": "21ab711e",
   "metadata": {},
   "source": [
    "## 3. Preguntas y problemas\n",
    "\n",
    "A partir del set de datos y la exploración de este, se ha llegado a plantear las siguiente preguntas:"
   ]
  },
  {
   "cell_type": "markdown",
   "id": "db7135c7",
   "metadata": {},
   "source": [
    "#### 1. ¿Qué características (género, tiempo de juego, rating) predicen mejor si un juego tendrá clasificación ESRB \"M\" (Maduro) frente a otras (ej: \"T\" para Teen)? ¿Puedo predecir cualquier clasificación de un juego basado en estos atributos? \n",
    "\n",
    "La clasificación de un juego determina el público objetivo de este. Entender qué características de un juego correlacionan con esto ayudará a la hora del desarrollo de este. Hipótesis: Juegos con etiquetas como Horror o Acción serán etiquetados como 'M'.  Así mismo, juegos con mayores tiempo de completitud serán de rating al menos M. Entonces, debería ser posible determinar el rating a partir de estas variables.\n",
    "\n",
    "#### 2. ¿Podemos predecir el promedio de reviews de un juego en función de su tasa de abandono?\n",
    "\n",
    "Los reviews de un juegos son un indicador de la recepción de este por parte de los jugadores, si un juego tiene altas tasas de abadono ¿repercute directamente en la review que reciba? Hipótesis: Los juegos con mayor tasa de abandono tendrán menores promedios de reviews que los con menos abandono.\n",
    "\n",
    "#### 3. ¿Existen grupos de juegos con patrones similares que permitan agruparlos para recomendaciones?\n",
    "\n",
    "Idintificar grupos entre los juegos para catalogarlos como 'similares' entre sí y poder ser recomendados juntos. Hipótesis: que se formen grupos entre juegos más rápidos de pasar y con menor rating, o juegos que tienen alto abandono y pertenecen a ciertos géneros.\n",
    "\n",
    "#### 4. ¿Existen combinaciones de géneros o características (ej: \"RPG + Open World\") que correlacionen con tasas de abandono excepcionalmente altas/bajas?\n",
    "\n",
    "Se busca encontrar características que influyan en el abandono de un juego. Hipótesis: Combinaciones como 'RPG + Open World' tendrán tasa de abandono significativamente mayor que 'RPG lineal', debido a la fatiga por contenido repetitivo. Otro como 'puzzle + indie' deben tener menos abandono quizás relacionado con su tiempo de completación."
   ]
  }
 ],
 "metadata": {
  "kernelspec": {
   "display_name": "Python 3",
   "language": "python",
   "name": "python3"
  },
  "language_info": {
   "codemirror_mode": {
    "name": "ipython",
    "version": 3
   },
   "file_extension": ".py",
   "mimetype": "text/x-python",
   "name": "python",
   "nbconvert_exporter": "python",
   "pygments_lexer": "ipython3",
   "version": "3.10.4"
  }
 },
 "nbformat": 4,
 "nbformat_minor": 5
}
