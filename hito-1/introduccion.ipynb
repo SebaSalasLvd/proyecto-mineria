{
 "cells": [
  {
   "cell_type": "markdown",
   "id": "f9553977",
   "metadata": {},
   "source": [
    "## 1. Introduccion \n",
    "\n",
    "En la actualidad, el universo de los videojuegos ha experimentado una expansión sin precedentes, con miles de títulos disponibles en múltiples plataformas y muchos más en desarrollo. Esta industria no solo ha crecido en termidos de producción y consumo, sino que tambien en la forma en que las personas interactúan con estos productos. El público que consume videojuegos abarca un amplio espectro demográfico, desde niños hasta adultos mayores, cada uno con percepciones, motivaciones y formas de relacionarse con los juegos significativamente distintas entre sí.\n",
    "\n",
    "Dentro de las muchas prácticas asociadas en este entorno, surge una que ha ganado popularidad a través de los años, los speedruns. Esta actividad consiste, basicamente, en completar un videojuego en el menor tiempo posible siguiendo reglas de la misma comunidad. Lo que comenzó como un nicho se ha convertido en una forma competitiva de juego y un fenómeno cultural que con sus competiciones organizadas y transmisiones en directo logran captar la atención de miles de personas por todo el mundo.\n",
    "\n",
    "Nuestro interés surgío, en un principio, por analizar un dataset centrado en los speedruns ya que ofrecía una buena calidad de datos y perspectiva social. Lo primero que se logró notar es que estos datos ofrecen una buena oportunidad para observar patrones de juego y rendimiento a través de distintos títulos, géneros y plataformas. Esto nos permitiría comprender mejor las dinamicas competitivas dentro de estas comunidades y extraer conocimiento valioso.\n",
    "\n",
    "Sin embargo, al explorar más a fondo, logramos apreciar que el enfoque podía ser mucho más amplio y enriquecedor que solo limitarse a speedruns. Por ello decidimos hacer un estudio más amplio que abarcara el espectro de los videojuegos de manera general, y con esta información lograremos revelar aspectos interesantes de las relaciones sociales en la era digital. No obstante, esa práctica dejó en claro que los videojuegos no son solo una forma de entretenimiento para niños, sino que es un espacio mucho más complejo donde es posible desarrollar habilidades cognitivas y motoras significativas. Además, estudios recientes han demostrado el potencial de los videojuegos en areas de educación, creatividad, e incluso las mejoras en salud mental como el combate del deterioro cognitivo en adultos mayores.\n",
    "\n",
    "En este informe exploraremos este dataset de manera sistemática, formulando hipótesis y extrayendo conocimiento significativo a partir de los registros de rendimiento en videojuegos, comprendiendo asi un fenomeno cultural contemporaneo."
   ]
  }
 ],
 "metadata": {
  "language_info": {
   "name": "python"
  }
 },
 "nbformat": 4,
 "nbformat_minor": 5
}
