{
 "cells": [
  {
   "cell_type": "markdown",
   "id": "f9553977",
   "metadata": {},
   "source": [
    "## 1. Introduccion \n",
    "\n",
    "En la actualidad, el universo de los videojuegos ha experimentado una gran expansión, con miles de títulos disponibles a través de diversas plataformas y miles más en desarrollo. Esta industria no solo ha crecido en termidos de producción y consumo, sino que tambien en la forma en que las personas interactúan con estos productos. El público que consume videojuegos abarca un amplio espectro demográfico, desde niños hasta adultos mayores, cada uno con percepciones, motivaciones y formas de relacionarse con los juegos significativamente distintas entre sí.\n",
    "\n",
    "Dentro de este panorama, surge una practica que ha ganado popularidad a través de los años, los speedruns. Esta actividad consiste, basicamente, en completar un videojuego en el menor tiempo posible siguiendo reglas de la misma comunidad. Lo que comenzó como un nicho se ha convertido en una forma competitiva de juego y un fenómeno cultural que con sus competiciones organizadas y transmisiones en directo logran captar la atención de miles de personas por todo el mundo.\n",
    "\n",
    "Nuestro interes por analizar este dataset basado en los speedruns de videojuegos surgen de distintas motivaciones tanto de los datos como de la sociedad. Lo primero que podemos notar es que estos datos ofrecen una buena oportunidad para observar patrones de juego y rendimiento a través de distintos títulos, géneros y plataformas. Con esto podemos entender de mejor manera las dinamicas competitivas dentro de estas comunidades y extraer conocimiento valioso.\n",
    "\n",
    "Los speedruns representan un fenómeno cultural capaz de captar la atención de las personas y que va mas alla de una simple competición, con esta información podremos revelar aspectos interesantes de las relaciones sociales en la era digital. Esta practica dejo en claro que los videojuegos no son solo una forma de entretenimiento para niños, sino que es un espacio mucho más complejo donde es posible desarrollar habilidades cognitivas y motoras significativas, que incluso a traves de ciertos estudios han logrado descubrir su potencial para el combate del deterioro cognitivo en adultos mayores. \n",
    "\n",
    "En este informe exploraremos este dataset de manera sistemática, formulando hipótesis y extrayendo conocimiento significativo a partir de los registros de rendimiento en videojuegos, comprendiendo asi un fenomeno cultural contemporaneo."
   ]
  }
 ],
 "metadata": {
  "language_info": {
   "name": "python"
  }
 },
 "nbformat": 4,
 "nbformat_minor": 5
}
