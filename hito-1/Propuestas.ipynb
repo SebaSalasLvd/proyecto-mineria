{
 "cells": [
  {
   "cell_type": "markdown",
   "id": "b3edb519",
   "metadata": {},
   "source": [
    "## 4. Propuesta Metodológica Experimental\n",
    "\n",
    "Describir la estrategia para responder cada pregunta de investigación, incluyendo los siguientes aspectos:\n",
    "\n",
    "- **Preprocesamiento adicional necesario**  \n",
    "  Especificar cualquier transformación, limpieza, o integración de datos que se requiera antes del análisis.\n",
    "\n",
    "- **Modelos y técnicas de minería de datos a utilizar**  \n",
    "  Indicar qué técnicas (supervisadas o no supervisadas) se emplearán y por qué son adecuadas para la pregunta.\n",
    "\n",
    "- **Criterios de evaluación de los resultados**  \n",
    "  Mencionar las métricas de desempeño (precisión, F1-score, silhouette score, etc.) utilizadas para comparar modelos o técnicas.\n",
    "\n",
    "- **Justificación de cada decisión tomada**  \n",
    "  Explicar por qué se seleccionaron ciertos métodos, modelos o métricas, en función del tipo de datos y de la pregunta que se busca responder.\n",
    "\n",
    "### Ejemplo:\n",
    "\n",
    "> *Para responder la pregunta X, agregaremos los datos por país, reduciremos dimensiones con técnicas Z y K, aplicaremos clustering y evaluaremos con los algoritmos E, F y G. Compararemos los resultados utilizando las métricas A, B y C.*\n",
    "\n"
   ]
  },
  {
   "cell_type": "markdown",
   "id": "854ecbbc",
   "metadata": {},
   "source": [
    "## R1"
   ]
  },
  {
   "cell_type": "markdown",
   "id": "c0bac905",
   "metadata": {},
   "source": [
    "## R2"
   ]
  },
  {
   "cell_type": "markdown",
   "id": "73432c17",
   "metadata": {},
   "source": [
    "## R3"
   ]
  }
 ],
 "metadata": {
  "language_info": {
   "name": "python"
  }
 },
 "nbformat": 4,
 "nbformat_minor": 5
}
