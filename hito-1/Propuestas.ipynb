{
 "cells": [
  {
   "cell_type": "markdown",
   "id": "b3edb519",
   "metadata": {},
   "source": [
    "## 4. Propuesta Metodológica Experimental\n",
    "\n",
    "Describir la estrategia para responder cada pregunta de investigación, incluyendo los siguientes aspectos:\n",
    "\n",
    "- **Preprocesamiento adicional necesario**  \n",
    "  Especificar cualquier transformación, limpieza, o integración de datos que se requiera antes del análisis.\n",
    "\n",
    "- **Modelos y técnicas de minería de datos a utilizar**  \n",
    "  Indicar qué técnicas (supervisadas o no supervisadas) se emplearán y por qué son adecuadas para la pregunta.\n",
    "\n",
    "- **Criterios de evaluación de los resultados**  \n",
    "  Mencionar las métricas de desempeño (precisión, F1-score, silhouette score, etc.) utilizadas para comparar modelos o técnicas.\n",
    "\n",
    "- **Justificación de cada decisión tomada**  \n",
    "  Explicar por qué se seleccionaron ciertos métodos, modelos o métricas, en función del tipo de datos y de la pregunta que se busca responder.\n",
    "\n",
    "### Ejemplo:\n",
    "\n",
    "> *Para responder la pregunta X, agregaremos los datos por país, reduciremos dimensiones con técnicas Z y K, aplicaremos clustering y evaluaremos con los algoritmos E, F y G. Compararemos los resultados utilizando las métricas A, B y C.*\n",
    "\n"
   ]
  },
  {
   "cell_type": "markdown",
   "id": "854ecbbc",
   "metadata": {},
   "source": [
    "## R1"
   ]
  },
  {
   "cell_type": "markdown",
   "id": "c0bac905",
   "metadata": {},
   "source": [
    "## R2\n",
    "Para responder la pregunta **\"¿Es posible predecir el promedio de reviews a partir de la tasa de abandono / completitud?\"**, planteamos un enfoque supervisado de regresión\n",
    "\n",
    "##### Preprocesamiento\n",
    "- Se mantiene el preprocesamiento mencionado anteriormente que ayuda a la limpieza de datos y reducción de dimensionalidad.\n",
    "\n",
    "##### Modelo y técnica de minería de datos a utilizar\n",
    "Se utilizará un enfoque supervisado, ya que tenemos una variable objetivo conocida y queremos predecirla utilizando la tasa de abandono/completitiud para ello se investigará la efectividad de\n",
    "- Regresión lineal como modelo base para tener una primera aproximación a la relación entre las variables.\n",
    "- Árboles de decisión y Random Forest para identificar el caso en que se tenga una relación no lineal.\n",
    "\n",
    "##### Criterio de evaluación de los resultados\n",
    "- R² como medida de calidad global"
   ]
  },
  {
   "cell_type": "markdown",
   "id": "73432c17",
   "metadata": {},
   "source": [
    "## R3\n",
    "\n",
    "Para responder la pregunta **\"¿Qué juegos podríamos recomendar juntos?\"**, aplicaremos un enfoque no supervisado basado en clustering\n",
    "\n",
    "#### Preprocesamiento necesario\n",
    "- Se mantiene el preprocesamiento mencionado anteriormente que ayuda a la limpieza de datos y reducción de dimensionalidad.\n",
    "\n",
    "#### Modelo y Técnica de minería de datos a utilizar\n",
    "- Se utilizará un enfoque no supervisado basado en clustering, esto porque no contamos con etiquetas predefinidas de \"juegos recomendables juntos\". Se evaluará con el algoritmo de k-means esperando una respuesta de grupos homogéneos, comparar con varios valores de k. Además se comparará con DBSCAN, que encontrará un número de clusters y permitirá contrastar en caso de que los grupos no sean homogéneos ni con una forma esférica.\n",
    "\n",
    "#### Criterio de evaluación de los resultados\n",
    "- Se utilizará Silhouette Score para ver que tan separados y cohesionado está un punto en su cluster y así se comparará para los distintos valores de k en k-means. Esto permitirá escoger un valor de k apropiado y que los clusters generados correspondan efectivamente a grupos cohesionados y separados.\n",
    "- Se utilizará una evaluación semántica basada en el contexto, sobre todo se pretende evaluar aquí que tenga sentido que ciertos juegos estén agrupados y que por ende compartan algunos atributos como género, promedio de reviews, promedio en tiempo de completitud, entre otros.\n",
    "\n"
   ]
  }
 ],
 "metadata": {
  "language_info": {
   "name": "python"
  }
 },
 "nbformat": 4,
 "nbformat_minor": 5
}
