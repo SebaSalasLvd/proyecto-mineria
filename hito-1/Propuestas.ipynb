{
 "cells": [
  {
   "cell_type": "markdown",
   "id": "b3edb519",
   "metadata": {},
   "source": [
    "## 4. Propuesta Metodológica Experimental\n",
    "\n"
   ]
  },
  {
   "cell_type": "markdown",
   "id": "c21463d2",
   "metadata": {},
   "source": [
    "#### Pregunta - promedio de reviews a partir de tasa de abandono y rejugabilidad\n",
    "\n",
    "Para responder la pregunta *¿Es posible predecir el promedio de reviews a partir de la tasa de abandono y rejugabilidad?*, planteamos un enfoque supervisado\n",
    "Preprocesamiento\n",
    "- Se mantiene el preprocesamiento mencionado anteriormente que ayuda a la limpieza de datos y reducción de dimensionalidad.\n",
    "- Dejaremos solo las columnas que nos sirvan, en este caso, las de cantidad de abandonos, las de rejugabilidad, las de completitud, las totales, las cantidades de reviews y el promedio de reviews.\n",
    "- Buscaremos un threshold para eliminar las filas que no contengan reviews y las que no tengan muy poca informacion sobre sus datos de abandonos y rejugabilidad.\n",
    "\n",
    "Modelo y técnica de minería de datos a utilizar\n",
    "\n",
    "Se utilizará un enfoque supervisado, ya que tenemos una variable objetivo conocida y queremos predecirla utilizando la tasa de abandono/rejugabilidad para ello se investigará la efectividad de\n",
    "- Regresión lineal como modelo base para tener una primera aproximación a la relación entre las variables.\n",
    "- Random Forest para identificar el caso en que se tenga una relación no lineal o interacciones entre las variables predictoras.\n",
    "\n",
    "Criterio de evaluación de los resultados\n",
    "- R² como medida de calidad global\n",
    "- MSE como medida de error cuadrático medio para evaluar la precisión del modelo.\n"
   ]
  },
  {
   "cell_type": "markdown",
   "id": "40678f55",
   "metadata": {},
   "source": [
    " ##### Pregunta - Características para predecir clasificación\n",
    "\n",
    "\n",
    "Para responder la pregunta *¿Qué características (género, tiempo de juego, rating) predicen mejor si un juego tendrá clasificación ESRB \"M\" (Maduro) frente a otras (ej: \"T\" para Teen)? ¿Puedo predecir cualquier clasificación de un juego basado en estos atributos?* utilizaremos un enfoque supervisado basado en clasificación.\n",
    "\n",
    "Preprocesamiento adicional necesario\n",
    "- Se eliminan del análisis aquellos valores nulos en game_rating_esrb y aquellos con \"Unrated\". Esto se debe realizar para tener datos útiles, no nulos para el análisis.\n",
    "- Se estandariza la nomenclatura basada en intervalos, E, E+10, T, M, A fijos. Esto se realiza debido a que existen subcategorías como +3, +12, entre otros que se corresponden con E o con E+10 pero no están allí, similar para otros datos.\n",
    "- Se define una columna binaria extra llamada \"target_esrb_mature\" donde se agruparán los juegos M con un 1 y los demás con 0. Esto ya que queremos que el modelo responda sí o no con respecto a una sola de las categorías.\n",
    "\n",
    "Modelo y Técnica de minería de datos a utilizar\n",
    "Dado que tenemos una pregunta de clasificación binaria, utilizaremos un enfoque supervisado utilizando, por un lado, árboles de decisión y random forest. Esto debido a que son algoritmos interpretables, permiten identificar la importancia de las variables predictoras y manejan bien tanto variables categóricas como continuas sin requerir mucho preprocesamiento. Además, la random forest ayuda a reducir el sobreajuste al promediar múltiples árboles.\n",
    "\n",
    "\n",
    "Criterio de evaluación de los resultados\n",
    "Para evaluar el desempeño de los modelos se utilizarán las siguientes métricas:\n",
    "- Accuracy: para observar qué tan bien clasifica en general.\n",
    "\n",
    "- Precisión y recall para la clase 'M': dado que puede haber desbalance en las clases, estas métricas nos permiten evaluar específicamente qué tan bien se identifican los juegos maduros.\n",
    "\n",
    "- Matriz de confusión: para visualizar los verdaderos positivos, falsos positivos, verdaderos negativos y falsos negativos.\n",
    "\n",
    "- Curva ROC y AUC: para medir la capacidad discriminativa del modelo entre las clases.\n",
    "\n",
    "Con base en estas métricas, podremos identificar qué características (por ejemplo, ciertos géneros, tiempos de juego largos o ratings de usuarios elevados) son más comunes entre los juegos clasificados como \"M\", y si es viable predecir la clasificación ESRB únicamente con atributos como género, tiempo de juego y rating general del juego.\n"
   ]
  },
  {
   "cell_type": "markdown",
   "id": "0ce871a3",
   "metadata": {},
   "source": [
    "#### Pregunta - Combinaciones de géneros o características que correlacionen con tasas de abandono expecionalmente bajas/altas?\n",
    "\n",
    "Para responder la pregunta *¿Existen combinaciones de géneros o características (ej: \"RPG + Open World\") que correlacionen con tasas de abandono excepcionalmente altas/bajas?*, aplicaremos un enfoque no supervisado basado en clustering\n",
    "\n",
    "Preprocesamiento necesario\n",
    "- Convertir game_profile_genre en variables binarias, permitiendo detectar combinaciones como \"RPG + Open World\"\n",
    "- Definición de tasa de abandono: $\\text{Tasa de abandono} = \\frac{\\text{game\\_count\\_retired}}{\\text{game\\_count\\_total}}$\n",
    "- Filtrado de juegos con baja cantidad de usuarios: Para evitar sesgos por juegos con pocos registros, se puede eligir un umbral mínimo de 10 usuarios.\n",
    "- Agrupación de características adicionales:\n",
    "Incluir variables binarias para: plataforma principal (game_profile_platform), modos de juego (game_comp_lvl_sp, co, mp), tipo de juego (game_game_type). Esto permitirá generar un análisis más granular y con mayor control en los datos.\n",
    "\n",
    "Modelo y Técnica de minería de datos a utilizar\n",
    "Se aplicará un enfoque no supervisado sobre las combinaciones de géneros y características jugables para encontrar patrones asociados a tasas de abandono. Es no supervisado dado que no conocemos combinaciones de antemano que aseguren una correlacion con tasas de abandono.\n",
    "- Se utilizará K-Means para evaluar agrupaciones homogéneas en torno a tasas de abandono similares.\n",
    "- Se probará también con DBSCAN como técnica alternativa, especialmente útil si los grupos son irregulares o no esféricos.\n",
    "\n",
    "Criterio de evaluación de los resultados\n",
    "- Se utilizará el Silhouette Score para evaluar la coherencia interna de los clusters formados."
   ]
  },
  {
   "cell_type": "markdown",
   "id": "73432c17",
   "metadata": {},
   "source": [
    "#### Pregunta - Grupos de juegos con patrones similares para recomendaciones.\n",
    "\n",
    "Para responder la pregunta *¿Existen grupos de juegos con patrones similares que permitan agruparlos para recomendaciones?*, aplicaremos un enfoque no supervisado basado en clustering\n",
    "\n",
    "Preprocesamiento necesario adicional\n",
    "- Se mantiene el preprocesamiento mencionado anteriormente que ayuda a la limpieza de datos y reducción de dimensionalidad.\n",
    "\n",
    "Modelo y Técnica de minería de datos a utilizar\n",
    "- Se utilizará un enfoque no supervisado basado en clustering, esto porque no contamos con etiquetas predefinidas de \"juegos recomendables juntos\". Se evaluará con el algoritmo de k-means esperando una respuesta de grupos homogéneos, comparar con varios valores de k. Además se comparará con DBSCAN, que encontrará un número de clusters y permitirá contrastar en caso de que los grupos no sean homogéneos ni con una forma esférica.\n",
    "\n",
    "Criterio de evaluación de los resultados\n",
    "- Se utilizará Silhouette Score para ver que tan separados y cohesionado está un punto en su cluster y así se comparará para los distintos valores de k en k-means. Esto permitirá escoger un valor de k apropiado y que los clusters generados correspondan efectivamente a grupos cohesionados y separados.\n",
    "- Se utilizará una evaluación semántica basada en el contexto, sobre todo se pretende evaluar aquí que tenga sentido que ciertos juegos estén agrupados y que por ende compartan algunos atributos como género, promedio de reviews, promedio en tiempo de completitud, entre otros.\n",
    "\n"
   ]
  }
 ],
 "metadata": {
  "language_info": {
   "name": "python"
  }
 },
 "nbformat": 4,
 "nbformat_minor": 5
}
